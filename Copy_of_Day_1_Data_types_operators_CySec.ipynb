{
  "nbformat": 4,
  "nbformat_minor": 0,
  "metadata": {
    "kernelspec": {
      "display_name": "Python 3",
      "language": "python",
      "name": "python3"
    },
    "language_info": {
      "codemirror_mode": {
        "name": "ipython",
        "version": 3
      },
      "file_extension": ".py",
      "mimetype": "text/x-python",
      "name": "python",
      "nbconvert_exporter": "python",
      "pygments_lexer": "ipython3",
      "version": "3.7.3"
    },
    "colab": {
      "name": "Copy of Day_1_Data_types_operators_CySec.ipynb",
      "provenance": [],
      "collapsed_sections": []
    }
  },
  "cells": [
    {
      "cell_type": "markdown",
      "metadata": {
        "id": "CCGxr4p0KRCo"
      },
      "source": [
        "<h1>Data Types and Operators</h1>\n",
        "<h4>Welcome to this lesson on Data Types and Operators! You'll learn about:</h4> \n",
        "\n",
        "- <h4>Data Types:</h4> Strings, Integers, Floats, Booleans, Lists, Tuples, Sets, Dictionaries\n",
        "\n",
        "- <h4>Operators:</h4> Arithmetic, Assignment, Comparison, Logical, Membership, Identity\n",
        "\n",
        "\n",
        "- Built-In Functions, Compound Data Structures, Type Conversion\n"
      ]
    },
    {
      "cell_type": "markdown",
      "metadata": {
        "id": "YdlY6Q0xKRCr"
      },
      "source": [
        "<h1>Strings:<h1>"
      ]
    },
    {
      "cell_type": "code",
      "metadata": {
        "id": "LSUCWRedKRCs"
      },
      "source": [
        "#String: Enclosed textual data within quotes\n",
        "var_1 = 'Hello World!'\n",
        "var_2 = \"Youtube is Google's video streaming platform\""
      ],
      "execution_count": 1,
      "outputs": []
    },
    {
      "cell_type": "code",
      "metadata": {
        "id": "HfX-YPTRKRCu",
        "colab": {
          "base_uri": "https://localhost:8080/"
        },
        "outputId": "2ae5db66-71a4-4df4-8a83-88a420fb240e"
      },
      "source": [
        "print(var_1)\n",
        "#Prints the value of variable"
      ],
      "execution_count": 2,
      "outputs": [
        {
          "output_type": "stream",
          "text": [
            "Hello World!\n"
          ],
          "name": "stdout"
        }
      ]
    },
    {
      "cell_type": "code",
      "metadata": {
        "id": "4m9G3JroKRCw",
        "colab": {
          "base_uri": "https://localhost:8080/"
        },
        "outputId": "4690b130-9bf2-40c2-e310-177795266869"
      },
      "source": [
        "print(len(var_1))\n",
        "#Prints the length of variable"
      ],
      "execution_count": 3,
      "outputs": [
        {
          "output_type": "stream",
          "text": [
            "12\n"
          ],
          "name": "stdout"
        }
      ]
    },
    {
      "cell_type": "code",
      "metadata": {
        "id": "cDHtTN9IKRCz",
        "colab": {
          "base_uri": "https://localhost:8080/"
        },
        "outputId": "7ff5e756-43d9-426f-b44f-4d2c3a37c06b"
      },
      "source": [
        "#In python, Indexing starts from 0,1,2,3\n",
        "print(var_1[10])\n",
        "#prints character at index 10\n"
      ],
      "execution_count": 4,
      "outputs": [
        {
          "output_type": "stream",
          "text": [
            "d\n"
          ],
          "name": "stdout"
        }
      ]
    },
    {
      "cell_type": "code",
      "metadata": {
        "id": "0eMlUtkVKRC0",
        "colab": {
          "base_uri": "https://localhost:8080/"
        },
        "outputId": "cbbe8e69-1bc1-4142-f64b-83f401683ba2"
      },
      "source": [
        "print(var_1[0:])\n",
        "#prints character index 0-4 but 5 isn't included"
      ],
      "execution_count": 6,
      "outputs": [
        {
          "output_type": "stream",
          "text": [
            "Hello World!\n"
          ],
          "name": "stdout"
        }
      ]
    },
    {
      "cell_type": "code",
      "metadata": {
        "id": "CYRRjKqbKRC2",
        "colab": {
          "base_uri": "https://localhost:8080/"
        },
        "outputId": "2cfb18f2-6843-4643-e0e0-8e26d516e0a6"
      },
      "source": [
        "print(var_1[6:])\n",
        "#prints character index 6-last index "
      ],
      "execution_count": 7,
      "outputs": [
        {
          "output_type": "stream",
          "text": [
            "World!\n"
          ],
          "name": "stdout"
        }
      ]
    },
    {
      "cell_type": "markdown",
      "metadata": {
        "id": "7N9Pd9pHKRC3"
      },
      "source": [
        "###### The above operations using square [] brackets is called slicing"
      ]
    },
    {
      "cell_type": "code",
      "metadata": {
        "id": "_E296bOZKRC5",
        "colab": {
          "base_uri": "https://localhost:8080/"
        },
        "outputId": "c9e99ea7-1f3b-490e-d559-c2768b75555a"
      },
      "source": [
        "print(var_1.lower()) #Prints strings in lower case"
      ],
      "execution_count": 11,
      "outputs": [
        {
          "output_type": "stream",
          "text": [
            "hello world!\n"
          ],
          "name": "stdout"
        }
      ]
    },
    {
      "cell_type": "code",
      "metadata": {
        "id": "PFhVTFKFKRC7",
        "colab": {
          "base_uri": "https://localhost:8080/"
        },
        "outputId": "63d9240b-ead0-45f7-ea9f-9d95186db755"
      },
      "source": [
        "print(var_1.upper()) #Prints strings in upper case"
      ],
      "execution_count": 9,
      "outputs": [
        {
          "output_type": "stream",
          "text": [
            "HELLO WORLD!\n"
          ],
          "name": "stdout"
        }
      ]
    },
    {
      "cell_type": "code",
      "metadata": {
        "id": "1zfU7cJzKRC9",
        "colab": {
          "base_uri": "https://localhost:8080/"
        },
        "outputId": "d5f01812-253a-41d5-faad-52645290707b"
      },
      "source": [
        "greeting = 'hello'\n",
        "name = 'harsh akshit'\n",
        "\n",
        "message_1 = greeting+', '+name+'. Welcome!' #String concatenation\n",
        "message_2 = '{}, {}. Welcome!'.format(greeting,name)\n",
        "\n",
        "print(message_1)\n",
        "print(message_2)"
      ],
      "execution_count": 12,
      "outputs": [
        {
          "output_type": "stream",
          "text": [
            "hello, harsh akshit. Welcome!\n",
            "hello, harsh akshit. Welcome!\n"
          ],
          "name": "stdout"
        }
      ]
    },
    {
      "cell_type": "markdown",
      "metadata": {
        "id": "nNGVHdOnKRC-"
      },
      "source": [
        "<br><br>\n",
        "\n",
        "## Variable Naming Conventions:**\n",
        "\n",
        "There are some rules we need to follow while giving a name for a Python variable.\n",
        "\n",
        "- **Rule-1**: You should start variable name with an alphabet or **underscore(_)** character.\n",
        "- **Rule-2:** A variable name can only contain **A-Z,a-z,0-9** and **underscore(_)**.\n",
        "- **Rule-3:** You cannot start the variable name with a **number**.\n",
        "- **Rule-4:** You cannot use special characters with the variable name such as such as **$,%,#,&,@.-,^** etc.\n",
        "- **Rule-5**: Variable names are **case sensitive**. For example str and Str are two different variables.\n",
        "- **Rule-6:** Do not use reserve keyword as a variable name for example keywords like **class, for, def, del, is, else,** **try, from,** etc. more examples are given below and as we go through the course we will come across many more. Creating names that are descriptive of the values often will help you avoid using any of these words."
      ]
    },
    {
      "cell_type": "code",
      "metadata": {
        "id": "_cIYZmW7KRDB"
      },
      "source": [
        "#Allowed variable names\n",
        "\n",
        "x=2\n",
        "y=\"Hello\"\n",
        "mypython=\"PythonGuides\"\n",
        "my_python=\"PythonGuides\"\n",
        "_my_python=\"PythonGuides\"\n",
        "_mypython=\"PythonGuides\"\n",
        "MYPYTHON=\"PythonGuides\"\n",
        "myPython=\"PythonGuides\"\n",
        "myPython7=\"PythonGuides\"\n"
      ],
      "execution_count": 17,
      "outputs": []
    },
    {
      "cell_type": "code",
      "metadata": {
        "id": "ErV0BgrNKRDD",
        "outputId": "3d9ff745-4ae6-49a3-f86e-3633efd36043"
      },
      "source": [
        "#Variable name not Allowed\n",
        "\n",
        "7mypython=\"PythonGuides\"\n",
        "-mypython=\"PythonGuides\"\n",
        "myPy@thon=\"PythonGuides\"\n",
        "my Python=\"PythonGuides\"\n",
        "for=\"PythonGuides\"\n",
        "\n",
        "#It shows invalid syntax. \n",
        "#It will execute one by one and will show the error."
      ],
      "execution_count": null,
      "outputs": [
        {
          "output_type": "error",
          "ename": "SyntaxError",
          "evalue": "invalid syntax (<ipython-input-23-23d4199b4438>, line 3)",
          "traceback": [
            "\u001b[1;36m  File \u001b[1;32m\"<ipython-input-23-23d4199b4438>\"\u001b[1;36m, line \u001b[1;32m3\u001b[0m\n\u001b[1;33m    7mypython=\"PythonGuides\"\u001b[0m\n\u001b[1;37m            ^\u001b[0m\n\u001b[1;31mSyntaxError\u001b[0m\u001b[1;31m:\u001b[0m invalid syntax\n"
          ]
        }
      ]
    },
    {
      "cell_type": "markdown",
      "metadata": {
        "id": "B7M4-6URKRDF"
      },
      "source": [
        "# Integers and Floats:\n",
        "##### Working with numeric data"
      ]
    },
    {
      "cell_type": "markdown",
      "metadata": {
        "id": "LxfwZ6TPKRDG"
      },
      "source": [
        "### Arithmetic Operators:\n",
        "#### Addition:           7+5\n",
        "#### Subtraction:     7-5\n",
        "#### Multiplication:  7*5\n",
        "#### Division:           7/5 \n",
        "#### Floor Division: 7//5 -> Drops decimal value\n",
        "#### Exponent:         7**5\n",
        "#### Modulus:           7%5 "
      ]
    },
    {
      "cell_type": "code",
      "metadata": {
        "id": "jtVIEvXmKRDH",
        "outputId": "8295d0f5-ec57-4d62-e2ee-fd405258591d"
      },
      "source": [
        "abs(-11) #Returns absolute value of integer data"
      ],
      "execution_count": null,
      "outputs": [
        {
          "output_type": "execute_result",
          "data": {
            "text/plain": [
              "11"
            ]
          },
          "metadata": {
            "tags": []
          },
          "execution_count": 25
        }
      ]
    },
    {
      "cell_type": "code",
      "metadata": {
        "id": "rkNXY2kdKRDI",
        "colab": {
          "base_uri": "https://localhost:8080/"
        },
        "outputId": "c5b63b56-eb88-437c-be7a-444bbeb3433c"
      },
      "source": [
        "num = 1\n",
        "num = num+1\n",
        "num += 1\n",
        "print(num)"
      ],
      "execution_count": 13,
      "outputs": [
        {
          "output_type": "stream",
          "text": [
            "3\n"
          ],
          "name": "stdout"
        }
      ]
    },
    {
      "cell_type": "code",
      "metadata": {
        "id": "Pv0nNzzqKRDJ",
        "colab": {
          "base_uri": "https://localhost:8080/"
        },
        "outputId": "63179667-76fd-4e42-f223-a3bf7f3f39a3"
      },
      "source": [
        "round(8.63) # round to nearest integer"
      ],
      "execution_count": 14,
      "outputs": [
        {
          "output_type": "execute_result",
          "data": {
            "text/plain": [
              "9"
            ]
          },
          "metadata": {
            "tags": []
          },
          "execution_count": 14
        }
      ]
    },
    {
      "cell_type": "code",
      "metadata": {
        "id": "jY0H64ukKRDK",
        "colab": {
          "base_uri": "https://localhost:8080/"
        },
        "outputId": "46bf0c52-a9b3-4430-9b4f-e4c3b3aee129"
      },
      "source": [
        "round(8.63,1) #rounds till first decimal point"
      ],
      "execution_count": 15,
      "outputs": [
        {
          "output_type": "execute_result",
          "data": {
            "text/plain": [
              "8.6"
            ]
          },
          "metadata": {
            "tags": []
          },
          "execution_count": 15
        }
      ]
    },
    {
      "cell_type": "markdown",
      "metadata": {
        "id": "LXizQFgiKRDL"
      },
      "source": [
        "### Comparison Operators:\n",
        "#### Equal:                   7==5\n",
        "#### Not Equal:            7!=5\n",
        "#### Greater than:       7>5\n",
        "#### Less than:            7<5 \n",
        "#### Greater or Equal: 7>=5\n",
        "#### Less or Equal:      7<=5"
      ]
    },
    {
      "cell_type": "code",
      "metadata": {
        "id": "Jho-E_PZKRDM",
        "colab": {
          "base_uri": "https://localhost:8080/"
        },
        "outputId": "f30eca5c-2257-4560-c891-7d326f92db56"
      },
      "source": [
        "num_1 = 7\n",
        "num_2 = 5\n",
        "print(num_1 == num_2)"
      ],
      "execution_count": 16,
      "outputs": [
        {
          "output_type": "stream",
          "text": [
            "False\n"
          ],
          "name": "stdout"
        }
      ]
    },
    {
      "cell_type": "code",
      "metadata": {
        "id": "s8gI02KFKRDN"
      },
      "source": [
        ""
      ],
      "execution_count": 16,
      "outputs": []
    }
  ]
}